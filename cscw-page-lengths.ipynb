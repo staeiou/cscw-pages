{
 "cells": [
  {
   "cell_type": "markdown",
   "metadata": {},
   "source": [
    "## What is the distribution of paper lengths in CSCW?\n",
    "by R. Stuart Geiger ([@staeiou](http://twitter.com/staeiou)), Berkeley Institute for Data Science\n",
    "\n",
    "Freely licensed under both [CC-BY 4.0](https://creativecommons.org/licenses/by/4.0/) and [The MIT License](https://opensource.org/licenses/MIT)."
   ]
  },
  {
   "cell_type": "markdown",
   "metadata": {},
   "source": [
    "Libraries used: Pandas and Matplotlib."
   ]
  },
  {
   "cell_type": "code",
   "execution_count": 1,
   "metadata": {
    "collapsed": false
   },
   "outputs": [],
   "source": [
    "import pandas as pd\n",
    "import matplotlib\n",
    "%matplotlib inline\n"
   ]
  },
  {
   "cell_type": "markdown",
   "metadata": {},
   "source": [
    "I used my web browser to go to ACM Digital Library's table of contents for [CSCW 2015](http://dl.acm.org/citation.cfm?id=2675133&preflayout=flat) and [2016](http://dl.acm.org/citation.cfm?id=2818048&preflayout=flat), which has page listings for every paper. From this, I can calculate each paper's length. I did a very low-tech way of importing the data (which also doesn't violate terms of service): selecting the table of contents in my browser, then copying and pasting the HTML as plain text into a text editor. The files are up on my website. "
   ]
  },
  {
   "cell_type": "markdown",
   "metadata": {},
   "source": [
    "Use the command line shell interface to download these files."
   ]
  },
  {
   "cell_type": "code",
   "execution_count": 2,
   "metadata": {
    "collapsed": false
   },
   "outputs": [
    {
     "name": "stdout",
     "output_type": "stream",
     "text": [
      "--2016-05-26 13:06:28--  http://stuartgeiger.com/cscw-len/cscw-15.txt\n",
      "Resolving stuartgeiger.com (stuartgeiger.com)... 162.249.2.237\n",
      "Connecting to stuartgeiger.com (stuartgeiger.com)|162.249.2.237|:80... connected.\n",
      "HTTP request sent, awaiting response... 200 OK\n",
      "Length: 77662 (76K) [text/plain]\n",
      "Saving to: ‘cscw-15.txt’\n",
      "\n",
      "cscw-15.txt         100%[=====================>]  75.84K   369KB/s   in 0.2s   \n",
      "\n",
      "2016-05-26 13:06:28 (369 KB/s) - ‘cscw-15.txt’ saved [77662/77662]\n",
      "\n",
      "--2016-05-26 13:06:29--  http://stuartgeiger.com/cscw-len/cscw-16.txt\n",
      "Resolving stuartgeiger.com (stuartgeiger.com)... 162.249.2.237\n",
      "Connecting to stuartgeiger.com (stuartgeiger.com)|162.249.2.237|:80... connected.\n",
      "HTTP request sent, awaiting response... 200 OK\n",
      "Length: 67881 (66K) [text/plain]\n",
      "Saving to: ‘cscw-16.txt’\n",
      "\n",
      "cscw-16.txt         100%[=====================>]  66.29K   324KB/s   in 0.2s   \n",
      "\n",
      "2016-05-26 13:06:29 (324 KB/s) - ‘cscw-16.txt’ saved [67881/67881]\n",
      "\n"
     ]
    }
   ],
   "source": [
    "!wget http://stuartgeiger.com/cscw-len/cscw-15.txt\n",
    "!wget http://stuartgeiger.com/cscw-len/cscw-16.txt"
   ]
  },
  {
   "cell_type": "markdown",
   "metadata": {},
   "source": [
    "Peeking at these files, they have the page numbers in lines that begin with \"Pages:\""
   ]
  },
  {
   "cell_type": "code",
   "execution_count": 3,
   "metadata": {
    "collapsed": false
   },
   "outputs": [
    {
     "name": "stdout",
     "output_type": "stream",
     "text": [
      "Table of Contents\r\n",
      "\r\n",
      "previousprevious proceeding |next proceeding next\r\n",
      "SESSION: Keynote Address\r\n",
      "The Facebook Study: A Personal Account of Data Science, Ethics and Change\r\n",
      "Jeff T. Hancock\r\n",
      "Pages: 1-1\r\n",
      "doi>10.1145/2675133.2697078\r\n",
      "Full text: PDFPDF\r\n",
      "\r\n",
      "Big social data, such as that produced by Facebook and Twitter, have the potential to transform the social sciences and lead to advances in understanding human behavior. At the same time, novel large-scale methods and forms of collaboration between academia ... expand\r\n",
      "SESSION: Crowdfunding\r\n",
      "Understanding the Effects of Crowdfunding on Entrepreneurial Self-Efficacy\r\n",
      "Emily Harburg, Julie Hui, Michael Greenberg, Elizabeth M. Gerber\r\n",
      "Pages: 3-16\r\n",
      "doi>10.1145/2675133.2675142\r\n",
      "Full text: PDFPDF\r\n",
      "\r\n",
      "Crowdfunding is emerging as a new socio-technical system that is changing how entrepreneurs interact with their community of financial supporters. While computer supported cooperative work (CSCW) researchers have begun to explore how this new type of ... expand\r\n",
      "Crowds on Wall Street: Extracting Value from Collaborative Investing Platforms\r\n",
      "Gang Wang, Tianyi Wang, Bolun Wang, Divya Sambasivan, Zengbin Zhang, Haitao Zheng, Ben Y. Zhao\r\n",
      "Pages: 17-30\r\n",
      "doi>10.1145/2675133.2675144\r\n",
      "Full text: PDFPDF\r\n",
      "\r\n"
     ]
    }
   ],
   "source": [
    "!head -n 25 cscw-15.txt"
   ]
  },
  {
   "cell_type": "markdown",
   "metadata": {},
   "source": [
    "We can use grep to just get these lines containing \"Pages: \":"
   ]
  },
  {
   "cell_type": "code",
   "execution_count": 4,
   "metadata": {
    "collapsed": false
   },
   "outputs": [
    {
     "name": "stdout",
     "output_type": "stream",
     "text": [
      "Pages: 1-1\r\n",
      "Pages: 3-16\r\n",
      "Pages: 17-30\r\n",
      "Pages: 31-43\r\n",
      "Pages: 44-55\r\n",
      "Pages: 56-68\r\n",
      "Pages: 69-81\r\n",
      "Pages: 82-94\r\n",
      "Pages: 95-104\r\n",
      "Pages: 105-115\r\n"
     ]
    }
   ],
   "source": [
    "!cat cscw-15.txt | grep \"Pages: \" | head"
   ]
  },
  {
   "cell_type": "markdown",
   "metadata": {},
   "source": [
    "Create the beginning of two CSV files, with headers for the start and end pages"
   ]
  },
  {
   "cell_type": "code",
   "execution_count": 5,
   "metadata": {
    "collapsed": true
   },
   "outputs": [],
   "source": [
    "!echo \"start_page,end_page\" > cscw-15-pages.csv\n",
    "!echo \"start_page,end_page\" > cscw-16-pages.csv"
   ]
  },
  {
   "cell_type": "markdown",
   "metadata": {},
   "source": [
    "Parse these files for lines containing \"Pages:\", then remove \"Pages: \" and replace the dash with a comma. Append this to the CSV files."
   ]
  },
  {
   "cell_type": "code",
   "execution_count": 6,
   "metadata": {
    "collapsed": false
   },
   "outputs": [],
   "source": [
    "!cat cscw-15.txt | grep \"Pages: \" | sed -e 's/Pages: //g' | sed -e 's/-/,/g' >> cscw-15-pages.csv\n",
    "!cat cscw-16.txt | grep \"Pages: \" | sed -e 's/Pages: //g' | sed -e 's/-/,/g' >> cscw-16-pages.csv"
   ]
  },
  {
   "cell_type": "markdown",
   "metadata": {},
   "source": [
    "Load these into Pandas dataframes."
   ]
  },
  {
   "cell_type": "code",
   "execution_count": 7,
   "metadata": {
    "collapsed": true
   },
   "outputs": [],
   "source": [
    "cscw15 = pd.read_csv(\"cscw-15-pages.csv\")\n",
    "cscw16 = pd.read_csv(\"cscw-16-pages.csv\")"
   ]
  },
  {
   "cell_type": "markdown",
   "metadata": {},
   "source": [
    "Create new dataframes containing the length of each paper by subtracting the start page from the end page, then adding one."
   ]
  },
  {
   "cell_type": "code",
   "execution_count": 8,
   "metadata": {
    "collapsed": false
   },
   "outputs": [],
   "source": [
    "cscw15_len = cscw15['end_page']-cscw15['start_page']+1\n",
    "cscw16_len = cscw16['end_page']-cscw16['start_page']+1\n"
   ]
  },
  {
   "cell_type": "markdown",
   "metadata": {},
   "source": [
    "Show summary statistics and bar plots."
   ]
  },
  {
   "cell_type": "code",
   "execution_count": 9,
   "metadata": {
    "collapsed": false
   },
   "outputs": [
    {
     "data": {
      "text/plain": [
       "count    163.000000\n",
       "mean      11.693252\n",
       "std        2.334210\n",
       "min        1.000000\n",
       "25%       11.000000\n",
       "50%       12.000000\n",
       "75%       13.000000\n",
       "max       17.000000\n",
       "dtype: float64"
      ]
     },
     "execution_count": 9,
     "metadata": {},
     "output_type": "execute_result"
    }
   ],
   "source": [
    "cscw15_len.describe()\n"
   ]
  },
  {
   "cell_type": "code",
   "execution_count": 10,
   "metadata": {
    "collapsed": false
   },
   "outputs": [
    {
     "data": {
      "text/plain": [
       "<matplotlib.axes._subplots.AxesSubplot at 0x7f051d3b69b0>"
      ]
     },
     "execution_count": 10,
     "metadata": {},
     "output_type": "execute_result"
    },
    {
     "data": {
      "image/png": "[encoded data removed]",
      "text/plain": [
       "<matplotlib.figure.Figure at 0x7f051d682940>"
      ]
     },
     "metadata": {},
     "output_type": "display_data"
    }
   ],
   "source": [
    "cscw15_len.value_counts(sort=False).plot(kind='bar')"
   ]
  },
  {
   "cell_type": "code",
   "execution_count": 11,
   "metadata": {
    "collapsed": false
   },
   "outputs": [
    {
     "data": {
      "text/plain": [
       "count    142.000000\n",
       "mean      12.598592\n",
       "std        1.794633\n",
       "min        6.000000\n",
       "25%       12.000000\n",
       "50%       13.000000\n",
       "75%       14.000000\n",
       "max       17.000000\n",
       "dtype: float64"
      ]
     },
     "execution_count": 11,
     "metadata": {},
     "output_type": "execute_result"
    }
   ],
   "source": [
    "cscw16_len.describe()"
   ]
  },
  {
   "cell_type": "code",
   "execution_count": 12,
   "metadata": {
    "collapsed": false
   },
   "outputs": [
    {
     "data": {
      "text/plain": [
       "<matplotlib.axes._subplots.AxesSubplot at 0x7f051a6954e0>"
      ]
     },
     "execution_count": 12,
     "metadata": {},
     "output_type": "execute_result"
    },
    {
     "data": {
      "image/png": "[encoded data removed]",
      "text/plain": [
       "<matplotlib.figure.Figure at 0x7f051a6d1ba8>"
      ]
     },
     "metadata": {},
     "output_type": "display_data"
    }
   ],
   "source": [
    "cscw16_len.value_counts(sort=False).plot(kind='bar')"
   ]
  },
  {
   "cell_type": "code",
   "execution_count": null,
   "metadata": {
    "collapsed": false
   },
   "outputs": [],
   "source": []
  },
  {
   "cell_type": "code",
   "execution_count": null,
   "metadata": {
    "collapsed": true
   },
   "outputs": [],
   "source": []
  },
  {
   "cell_type": "code",
   "execution_count": null,
   "metadata": {
    "collapsed": true
   },
   "outputs": [],
   "source": []
  },
  {
   "cell_type": "code",
   "execution_count": null,
   "metadata": {
    "collapsed": true
   },
   "outputs": [],
   "source": []
  }
 ],
 "metadata": {
  "kernelspec": {
   "display_name": "Python 3",
   "language": "python",
   "name": "python3"
  },
  "language_info": {
   "codemirror_mode": {
    "name": "ipython",
    "version": 3
   },
   "file_extension": ".py",
   "mimetype": "text/x-python",
   "name": "python",
   "nbconvert_exporter": "python",
   "pygments_lexer": "ipython3",
   "version": "3.5.1"
  }
 },
 "nbformat": 4,
 "nbformat_minor": 0
}
