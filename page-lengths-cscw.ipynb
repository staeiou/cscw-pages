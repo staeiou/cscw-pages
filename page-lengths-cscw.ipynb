{
 "cells": [
  {
   "cell_type": "markdown",
   "metadata": {},
   "source": [
    "# What is the distribution of paper lengths in CSCW?\n",
    "by R. Stuart Geiger ([@staeiou](http://twitter.com/staeiou)), ethnographer/postdoc, [Berkeley Institute for Data Science](http://bids.berkeley.edu)\n",
    "\n",
    "Freely licensed under both [CC-BY 4.0](https://creativecommons.org/licenses/by/4.0/) and [The MIT License](https://opensource.org/licenses/MIT)."
   ]
  },
  {
   "cell_type": "markdown",
   "metadata": {},
   "source": [
    "## Introduction\n",
    "In 2013, the ACM conference on Computer-Supported Cooperative Work (CSCW) removed a strict page limit, which had previously set the length for full papers at 10 pages and notes at 4 pages. Officially, papers can now be any length, from one page to infinity (or whatever the system supports). However, CSCW authors and reviewers [are told that](https://cscw.acm.org/2016/submit/papers.php) \"Papers whose length is incommensurate with their contribution will be rejected.\" So what is the new normal for page lengths? \n",
    "\n",
    "I am exploring this question in this Jupyter notebook, as well as trying to document my data collection, processing, and analysis in as open and reproducible as a manner as I can. I am using a mix of bash commands and python scripts to process and collect the data.\n"
   ]
  },
  {
   "cell_type": "markdown",
   "metadata": {},
   "source": [
    "## Data collection and processing\n",
    "Import libraries we will use: Pandas and Matplotlib."
   ]
  },
  {
   "cell_type": "code",
   "execution_count": 1,
   "metadata": {},
   "outputs": [],
   "source": [
    "import pandas as pd\n",
    "import matplotlib\n",
    "%matplotlib inline"
   ]
  },
  {
   "cell_type": "markdown",
   "metadata": {},
   "source": [
    "I used my web browser to go to ACM Digital Library's table of contents for [CSCW 2012](http://dl.acm.org/citation.cfm?id=2145204), [2013](http://dl.acm.org/citation.cfm?id=2441776), [2014](http://dl.acm.org/citation.cfm?id=2531602), [2015](http://dl.acm.org/citation.cfm?id=2675133&preflayout=flat) and [2016](http://dl.acm.org/citation.cfm?id=2818048&preflayout=flat), which has page numbers for every paper in plain text. Note that these table of contents do not include the \"companion\" proceedings, which are a separate published proceedings series that contains workshop proposals and extended abstracts for posters. Some years, one to two page abstracts for keynotes are included in the core proceedings, while other years they are included in the companion proceedings.\n",
    "\n",
    "I did a very low-tech, non-automated way of importing the data (which also doesn't violate the ACM Digital Library's strict [terms of service](http://librarians.acm.org/policies#anchor4), which expressly prohibits automated scraping of metadata or articles. I selected the entire table of contents in my browser, then copied and pasted the HTML as plain text into a text editor. These plain text table of contents files are up on my [github repository](https://github.com/staeiou/cscw-pages/). "
   ]
  },
  {
   "cell_type": "markdown",
   "metadata": {},
   "source": [
    "### Downloading and exploring the table of contents metadata\n",
    "To download these text files, use wget via the bash command line shell, expanding the years 12 to 16 in the filename though some bash magic:"
   ]
  },
  {
   "cell_type": "code",
   "execution_count": 89,
   "metadata": {},
   "outputs": [],
   "source": [
    "%%bash\n",
    "#mkdir toc-pages\n",
    "cd toc-pages\n",
    "wget -q https://raw.githubusercontent.com/staeiou/cscw-pages/master/toc-pages/cscw-{2012..2017}.txt\n",
    "cd .."
   ]
  },
  {
   "cell_type": "markdown",
   "metadata": {},
   "source": [
    "Peeking at one of these files using head (via the bash command line shell), they have the page numbers in lines that begin with \"Pages:\""
   ]
  },
  {
   "cell_type": "code",
   "execution_count": 103,
   "metadata": {},
   "outputs": [
    {
     "name": "stdout",
     "output_type": "stream",
     "text": [
      "Big social data, such as that produced by Facebook and Twitter, have the potential to transform the social sciences and lead to advances in understanding human behavior. At the same time, novel large-scale methods and forms of collaboration between academia ... expand\r\n",
      "SESSION: Crowdfunding\r\n",
      "Understanding the Effects of Crowdfunding on Entrepreneurial Self-Efficacy\r\n",
      "Emily Harburg, Julie Hui, Michael Greenberg, Elizabeth M. Gerber\r\n",
      "Pages: 3-16\r\n",
      "doi>10.1145/2675133.2675142\r\n",
      "Full text: PDFPDF\r\n",
      "\r\n",
      "Crowdfunding is emerging as a new socio-technical system that is changing how entrepreneurs interact with their community of financial supporters. While computer supported cooperative work (CSCW) researchers have begun to explore how this new type of ... expand\r\n",
      "Crowds on Wall Street: Extracting Value from Collaborative Investing Platforms\r\n",
      "Gang Wang, Tianyi Wang, Bolun Wang, Divya Sambasivan, Zengbin Zhang, Haitao Zheng, Ben Y. Zhao\r\n",
      "Pages: 17-30\r\n",
      "doi>10.1145/2675133.2675144\r\n",
      "Full text: PDFPDF\r\n",
      "\r\n",
      "In crowdsourced systems, it is often difficult to separate the highly capable \"experts\" from the average worker. In this paper, we study the problem of evaluating and identifying experts in the context of SeekingAlpha and StockTwits, two crowdsourced ... expand\r\n",
      "Crowdfunding Science: Sharing Research with an Extended Audience\r\n",
      "Julie S. Hui, Elizabeth M. Gerber\r\n",
      "Pages: 31-43\r\n",
      "doi>10.1145/2675133.2675188\r\n",
      "Full text: PDFPDF\r\n",
      "\r\n",
      "Crowdfunding is changing how, why, and which research projects are pursued. With the increasing number of crowdfunded research projects, it is important to understand what drives scientists to launch crowdfunding campaigns and how it affects their work. ... expand\r\n",
      "SESSION: Hacking and Making\r\n",
      "Reliving the Past & Making a Harmonious Society Today: A Study of Elderly Electronic Hackers in China\r\n"
     ]
    }
   ],
   "source": [
    "%%bash \n",
    "head -n 25 toc-pages/cscw-2015.txt"
   ]
  },
  {
   "cell_type": "markdown",
   "metadata": {},
   "source": [
    "We can use grep via the command line to just get these lines containing \"Pages: \":"
   ]
  },
  {
   "cell_type": "code",
   "execution_count": 118,
   "metadata": {},
   "outputs": [
    {
     "name": "stdout",
     "output_type": "stream",
     "text": [
      "Pages: 3-16\r\n",
      "Pages: 17-30\r\n",
      "Pages: 31-43\r\n",
      "Pages: 44-55\r\n",
      "Pages: 56-68\r\n",
      "Pages: 69-81\r\n",
      "Pages: 82-94\r\n",
      "Pages: 95-104\r\n",
      "Pages: 105-115\r\n",
      "Pages: 116-129\r\n"
     ]
    }
   ],
   "source": [
    "%%bash \n",
    "cat toc-pages/cscw-2015.txt | grep \"Pages: \" | head"
   ]
  },
  {
   "cell_type": "markdown",
   "metadata": {},
   "source": [
    "### Processing table of contents metadata\n",
    "I'm going to keep using the bash shell to parse these text files and put them into CSV files, which I will then load into python. So first, create the beginning of CSV files for each year, with headers for the start and end pages"
   ]
  },
  {
   "cell_type": "code",
   "execution_count": 137,
   "metadata": {},
   "outputs": [],
   "source": [
    "%%bash\n",
    "#mkdir data\n",
    "for year in {2012..2017}\n",
    "do\n",
    "    echo \"start_page,end_page\" > data/cscw-$year-pages.csv\n",
    "done"
   ]
  },
  {
   "cell_type": "markdown",
   "metadata": {},
   "source": [
    "Parse these files for only lines containing \"Pages: \", then remove \"Pages: \" and replace the dash with a comma. Append this to the CSV files."
   ]
  },
  {
   "cell_type": "code",
   "execution_count": 138,
   "metadata": {},
   "outputs": [],
   "source": [
    "%%bash\n",
    "for year in {2012..2017}\n",
    "do\n",
    "    cat toc-pages/cscw-$year.txt | grep \"Pages: \" | sed -e 's/Pages: //g' | sed -e 's/-/,/g' >> data/cscw-$year-pages.csv\n",
    "done"
   ]
  },
  {
   "cell_type": "markdown",
   "metadata": {},
   "source": [
    "Load these into Pandas dataframes in python."
   ]
  },
  {
   "cell_type": "code",
   "execution_count": 139,
   "metadata": {},
   "outputs": [
    {
     "data": {
      "text/html": [
       "<div>\n",
       "<table border=\"1\" class=\"dataframe\">\n",
       "  <thead>\n",
       "    <tr style=\"text-align: right;\">\n",
       "      <th></th>\n",
       "      <th>start_page</th>\n",
       "      <th>end_page</th>\n",
       "    </tr>\n",
       "  </thead>\n",
       "  <tbody>\n",
       "    <tr>\n",
       "      <th>0</th>\n",
       "      <td>2</td>\n",
       "      <td>12</td>\n",
       "    </tr>\n",
       "    <tr>\n",
       "      <th>1</th>\n",
       "      <td>13</td>\n",
       "      <td>25</td>\n",
       "    </tr>\n",
       "    <tr>\n",
       "      <th>2</th>\n",
       "      <td>26</td>\n",
       "      <td>40</td>\n",
       "    </tr>\n",
       "    <tr>\n",
       "      <th>3</th>\n",
       "      <td>41</td>\n",
       "      <td>50</td>\n",
       "    </tr>\n",
       "    <tr>\n",
       "      <th>4</th>\n",
       "      <td>51</td>\n",
       "      <td>69</td>\n",
       "    </tr>\n",
       "  </tbody>\n",
       "</table>\n",
       "</div>"
      ],
      "text/plain": [
       "   start_page  end_page\n",
       "0           2        12\n",
       "1          13        25\n",
       "2          26        40\n",
       "3          41        50\n",
       "4          51        69"
      ]
     },
     "execution_count": 139,
     "metadata": {},
     "output_type": "execute_result"
    }
   ],
   "source": [
    "cscw_pages = {}\n",
    "for count in range(2012,2018):\n",
    "    cscw_pages[count] = pd.read_csv(\"data/cscw-\" + str(count) + \"-pages.csv\")\n",
    "\n",
    "cscw_pages[2017][0:5]"
   ]
  },
  {
   "cell_type": "markdown",
   "metadata": {},
   "source": [
    "## Data analysis and visualization"
   ]
  },
  {
   "cell_type": "markdown",
   "metadata": {},
   "source": [
    "Create new dataframes for each year containing the length of each paper by subtracting the start page from the end page, then adding one."
   ]
  },
  {
   "cell_type": "code",
   "execution_count": 140,
   "metadata": {},
   "outputs": [
    {
     "data": {
      "text/plain": [
       "0    11\n",
       "1    13\n",
       "2    15\n",
       "3    10\n",
       "4    19\n",
       "dtype: int64"
      ]
     },
     "execution_count": 140,
     "metadata": {},
     "output_type": "execute_result"
    }
   ],
   "source": [
    "cscw_len = {}\n",
    "for year, dict_df in cscw_pages.items():\n",
    "    cscw_len[year] = dict_df['end_page'] - dict_df['start_page'] + 1\n",
    "    \n",
    "cscw_len[2017][0:5]"
   ]
  },
  {
   "cell_type": "markdown",
   "metadata": {},
   "source": [
    "We can use the value_counts() function to count up the different page lengths, which we can then plot into bar charts.\n"
   ]
  },
  {
   "cell_type": "markdown",
   "metadata": {},
   "source": [
    "### CSCW 2012, last year before 10 page limit was removed"
   ]
  },
  {
   "cell_type": "code",
   "execution_count": 141,
   "metadata": {},
   "outputs": [
    {
     "data": {
      "text/plain": [
       "<matplotlib.text.Text at 0x7fb1ef58c3c8>"
      ]
     },
     "execution_count": 141,
     "metadata": {},
     "output_type": "execute_result"
    },
    {
     "data": {
      "image/png": "[encoded data removed]",
      "text/plain": [
       "<matplotlib.figure.Figure at 0x7fb1ef4e67b8>"
      ]
     },
     "metadata": {},
     "output_type": "display_data"
    }
   ],
   "source": [
    "cscw_plot = {}\n",
    "\n",
    "cscw_plot[2012] = cscw_len[2012].value_counts(sort=False).plot(kind='bar',title=\"CSCW 2012\")\n",
    "cscw_plot[2012].set_xlabel(\"Page length\")\n",
    "cscw_plot[2012].set_ylabel(\"Number of articles\")"
   ]
  },
  {
   "cell_type": "code",
   "execution_count": 142,
   "metadata": {},
   "outputs": [
    {
     "data": {
      "text/plain": [
       "count    164.000000\n",
       "mean       8.682927\n",
       "std        2.491103\n",
       "min        4.000000\n",
       "25%       10.000000\n",
       "50%       10.000000\n",
       "75%       10.000000\n",
       "max       10.000000\n",
       "dtype: float64"
      ]
     },
     "execution_count": 142,
     "metadata": {},
     "output_type": "execute_result"
    }
   ],
   "source": [
    "cscw_len[2012].describe()"
   ]
  },
  {
   "cell_type": "markdown",
   "metadata": {},
   "source": [
    "### CSCW 2013, first year 10 page limit was removed"
   ]
  },
  {
   "cell_type": "code",
   "execution_count": 143,
   "metadata": {},
   "outputs": [
    {
     "data": {
      "text/plain": [
       "<matplotlib.text.Text at 0x7fb1ef433940>"
      ]
     },
     "execution_count": 143,
     "metadata": {},
     "output_type": "execute_result"
    },
    {
     "data": {
      "image/png": "[encoded data removed]",
      "text/plain": [
       "<matplotlib.figure.Figure at 0x7fb1ef43e358>"
      ]
     },
     "metadata": {},
     "output_type": "display_data"
    }
   ],
   "source": [
    "cscw_plot[2013] = cscw_len[2013].value_counts(sort=False).plot(kind='bar',title=\"CSCW 2013\")\n",
    "cscw_plot[2013].set_xlabel(\"Page length\")\n",
    "cscw_plot[2013].set_ylabel(\"Number of articles\")"
   ]
  },
  {
   "cell_type": "code",
   "execution_count": 144,
   "metadata": {},
   "outputs": [
    {
     "data": {
      "text/plain": [
       "count     139.000000\n",
       "mean       20.935252\n",
       "std       114.080204\n",
       "min         6.000000\n",
       "25%        10.000000\n",
       "50%        12.000000\n",
       "75%        12.000000\n",
       "max      1356.000000\n",
       "dtype: float64"
      ]
     },
     "execution_count": 144,
     "metadata": {},
     "output_type": "execute_result"
    }
   ],
   "source": [
    "cscw_len[2013].describe()"
   ]
  },
  {
   "cell_type": "markdown",
   "metadata": {},
   "source": [
    "There are some funny things going on with this data (the 1,356 line paper, , which I'll get to later."
   ]
  },
  {
   "cell_type": "markdown",
   "metadata": {},
   "source": [
    "### CSCW 2014"
   ]
  },
  {
   "cell_type": "code",
   "execution_count": 145,
   "metadata": {},
   "outputs": [
    {
     "data": {
      "text/plain": [
       "<matplotlib.text.Text at 0x7fb1ef31ecc0>"
      ]
     },
     "execution_count": 145,
     "metadata": {},
     "output_type": "execute_result"
    },
    {
     "data": {
      "image/png": "[encoded data removed]",
      "text/plain": [
       "<matplotlib.figure.Figure at 0x7fb1ef347dd8>"
      ]
     },
     "metadata": {},
     "output_type": "display_data"
    }
   ],
   "source": [
    "cscw_plot[2014] = cscw_len[2014].value_counts(sort=False).plot(kind='bar',title=\"CSCW 2014\")\n",
    "cscw_plot[2014].set_xlabel(\"Page length\")\n",
    "cscw_plot[2014].set_ylabel(\"Number of articles\")"
   ]
  },
  {
   "cell_type": "code",
   "execution_count": 146,
   "metadata": {
    "scrolled": true
   },
   "outputs": [
    {
     "data": {
      "text/plain": [
       "count    134.000000\n",
       "mean      11.664179\n",
       "std        1.506597\n",
       "min        6.000000\n",
       "25%       11.000000\n",
       "50%       12.000000\n",
       "75%       13.000000\n",
       "max       15.000000\n",
       "dtype: float64"
      ]
     },
     "execution_count": 146,
     "metadata": {},
     "output_type": "execute_result"
    }
   ],
   "source": [
    "cscw_len[2014].describe()"
   ]
  },
  {
   "cell_type": "markdown",
   "metadata": {},
   "source": [
    "### CSCW 2015"
   ]
  },
  {
   "cell_type": "code",
   "execution_count": 147,
   "metadata": {},
   "outputs": [
    {
     "data": {
      "text/plain": [
       "<matplotlib.text.Text at 0x7fb1ef26cf28>"
      ]
     },
     "execution_count": 147,
     "metadata": {},
     "output_type": "execute_result"
    },
    {
     "data": {
      "image/png": "[encoded data removed]",
      "text/plain": [
       "<matplotlib.figure.Figure at 0x7fb1ef2a1e80>"
      ]
     },
     "metadata": {},
     "output_type": "display_data"
    }
   ],
   "source": [
    "cscw_plot[2015] = cscw_len[2015].value_counts(sort=False).plot(kind='bar',title=\"CSCW 2015\")\n",
    "cscw_plot[2015].set_xlabel(\"Page length\")\n",
    "cscw_plot[2015].set_ylabel(\"Number of articles\")"
   ]
  },
  {
   "cell_type": "code",
   "execution_count": 149,
   "metadata": {},
   "outputs": [
    {
     "data": {
      "text/plain": [
       "count    161.000000\n",
       "mean      11.826087\n",
       "std        2.017316\n",
       "min        5.000000\n",
       "25%       11.000000\n",
       "50%       12.000000\n",
       "75%       13.000000\n",
       "max       17.000000\n",
       "dtype: float64"
      ]
     },
     "execution_count": 149,
     "metadata": {},
     "output_type": "execute_result"
    }
   ],
   "source": [
    "cscw_len[2015].describe()"
   ]
  },
  {
   "cell_type": "markdown",
   "metadata": {},
   "source": [
    "### CSCW 2016"
   ]
  },
  {
   "cell_type": "code",
   "execution_count": 150,
   "metadata": {},
   "outputs": [
    {
     "data": {
      "text/plain": [
       "<matplotlib.text.Text at 0x7fb1ef15b2b0>"
      ]
     },
     "execution_count": 150,
     "metadata": {},
     "output_type": "execute_result"
    },
    {
     "data": {
      "image/png": "[encoded data removed]",
      "text/plain": [
       "<matplotlib.figure.Figure at 0x7fb1ef2726d8>"
      ]
     },
     "metadata": {},
     "output_type": "display_data"
    }
   ],
   "source": [
    "cscw_plot[2016] = cscw_len[2016].value_counts(sort=False).plot(kind='bar',title=\"CSCW 2016\")\n",
    "cscw_plot[2016].set_xlabel(\"Page length\")\n",
    "cscw_plot[2016].set_ylabel(\"Number of articles\")"
   ]
  },
  {
   "cell_type": "code",
   "execution_count": 151,
   "metadata": {
    "scrolled": true
   },
   "outputs": [
    {
     "data": {
      "text/plain": [
       "count    142.000000\n",
       "mean      12.598592\n",
       "std        1.794633\n",
       "min        6.000000\n",
       "25%       12.000000\n",
       "50%       13.000000\n",
       "75%       14.000000\n",
       "max       17.000000\n",
       "dtype: float64"
      ]
     },
     "execution_count": 151,
     "metadata": {},
     "output_type": "execute_result"
    }
   ],
   "source": [
    "cscw_len[2016].describe()"
   ]
  },
  {
   "cell_type": "markdown",
   "metadata": {},
   "source": [
    "### CSCW 2017"
   ]
  },
  {
   "cell_type": "code",
   "execution_count": 152,
   "metadata": {},
   "outputs": [
    {
     "data": {
      "text/plain": [
       "<matplotlib.text.Text at 0x7fb1ef0b86d8>"
      ]
     },
     "execution_count": 152,
     "metadata": {},
     "output_type": "execute_result"
    },
    {
     "data": {
      "image/png": "[encoded data removed]",
      "text/plain": [
       "<matplotlib.figure.Figure at 0x7fb1ef0fdeb8>"
      ]
     },
     "metadata": {},
     "output_type": "display_data"
    }
   ],
   "source": [
    "cscw_plot[2017] = cscw_len[2017].value_counts(sort=False).plot(kind='bar',title=\"CSCW 2017\")\n",
    "cscw_plot[2017].set_xlabel(\"Page length\")\n",
    "cscw_plot[2017].set_ylabel(\"Number of articles\")"
   ]
  },
  {
   "cell_type": "code",
   "execution_count": 154,
   "metadata": {
    "scrolled": true
   },
   "outputs": [
    {
     "data": {
      "text/plain": [
       "count    183.000000\n",
       "mean      13.622951\n",
       "std        2.254402\n",
       "min        6.000000\n",
       "25%       13.000000\n",
       "50%       14.000000\n",
       "75%       15.000000\n",
       "max       23.000000\n",
       "dtype: float64"
      ]
     },
     "execution_count": 154,
     "metadata": {},
     "output_type": "execute_result"
    }
   ],
   "source": [
    "cscw_len[2017].describe()"
   ]
  },
  {
   "cell_type": "code",
   "execution_count": 155,
   "metadata": {},
   "outputs": [],
   "source": [
    "tidy_df = pd.DataFrame(columns=[\"year\", \"num_pages\"])"
   ]
  },
  {
   "cell_type": "code",
   "execution_count": 156,
   "metadata": {},
   "outputs": [],
   "source": [
    "cscw_len_means = {}\n",
    "cscw_len_median = {}\n",
    "for year, series in cscw_len.items():\n",
    "    for item in series:\n",
    "        tidy_df = tidy_df.append({\"year\":year, \"num_pages\":item}, ignore_index=True)"
   ]
  },
  {
   "cell_type": "code",
   "execution_count": null,
   "metadata": {
    "collapsed": true
   },
   "outputs": [],
   "source": []
  },
  {
   "cell_type": "code",
   "execution_count": 183,
   "metadata": {},
   "outputs": [],
   "source": [
    "tidy_df.query(\"num_pages>100\")\n",
    "tidy_df_c = tidy_df.drop(296)"
   ]
  },
  {
   "cell_type": "code",
   "execution_count": 184,
   "metadata": {},
   "outputs": [],
   "source": [
    "import seaborn as sns"
   ]
  },
  {
   "cell_type": "code",
   "execution_count": 187,
   "metadata": {},
   "outputs": [
    {
     "data": {
      "text/plain": [
       "<matplotlib.axes._subplots.AxesSubplot at 0x7fb1e575d940>"
      ]
     },
     "execution_count": 187,
     "metadata": {},
     "output_type": "execute_result"
    },
    {
     "data": {
      "image/png": "[encoded data removed]",
      "text/plain": [
       "<matplotlib.figure.Figure at 0x7fb1e5795780>"
      ]
     },
     "metadata": {},
     "output_type": "display_data"
    }
   ],
   "source": [
    "gb = tidy_df_c.groupby(\"year\")\n",
    "gb.median().plot()"
   ]
  },
  {
   "cell_type": "code",
   "execution_count": 188,
   "metadata": {},
   "outputs": [
    {
     "data": {
      "text/plain": [
       "<matplotlib.axes._subplots.AxesSubplot at 0x7fb1e57365f8>"
      ]
     },
     "execution_count": 188,
     "metadata": {},
     "output_type": "execute_result"
    },
    {
     "data": {
      "image/png": "[encoded data removed]",
      "text/plain": [
       "<matplotlib.figure.Figure at 0x7fb1e568d3c8>"
      ]
     },
     "metadata": {},
     "output_type": "display_data"
    }
   ],
   "source": [
    "sns.boxplot(data=tidy_df_c, y='num_pages', x='year')"
   ]
  },
  {
   "cell_type": "markdown",
   "metadata": {},
   "source": [
    "## Discussion\n",
    "If we look at the most recent proceedings for CSCW 2016, we can see that the old page length of 10 pages is well below the mean -- at least one standard deviation below. How many standard deviations below the mean is this old length? We can use the formula for calculating a z score (see [the Wikipedia article](https://en.wikipedia.org/w/index.php?title=Standard_score) for more info): \n",
    "$$z = {x- \\mu \\over \\sigma}$$\n",
    "where $x$ is the score (10 pages), $\\mu$ is the mean and $\\sigma$ is the standard deviation."
   ]
  },
  {
   "cell_type": "code",
   "execution_count": 160,
   "metadata": {},
   "outputs": [
    {
     "data": {
      "text/plain": [
       "-1.4479794496465004"
      ]
     },
     "execution_count": 160,
     "metadata": {},
     "output_type": "execute_result"
    }
   ],
   "source": [
    "(10 - cscw_len[2016].mean())/cscw_len[2016].std()"
   ]
  },
  {
   "cell_type": "code",
   "execution_count": 161,
   "metadata": {},
   "outputs": [
    {
     "data": {
      "text/plain": [
       "-1.607056385428755"
      ]
     },
     "execution_count": 161,
     "metadata": {},
     "output_type": "execute_result"
    }
   ],
   "source": [
    "(10 - cscw_len[2017].mean())/cscw_len[2017].std()"
   ]
  },
  {
   "cell_type": "markdown",
   "metadata": {
    "collapsed": true
   },
   "source": [
    "### What is going on with odd page lengths for CSCW 2013?\n",
    "The page lengths all fit some sort of smooth distribution, except CSCW 2013. It appears there were only a handful of articles that were 11 or 13 pages, with the overwhelming majority being 10 and 12 pages. And if you look even closer at the graph, you see there are no articles that are 7, 9, or 15 pages long. We also have a mysterious 1,356 page article. We can get the distribution of all lengths with value_counts():"
   ]
  },
  {
   "cell_type": "code",
   "execution_count": 162,
   "metadata": {},
   "outputs": [
    {
     "data": {
      "text/plain": [
       "6       10\n",
       "8        3\n",
       "10      40\n",
       "11       1\n",
       "12      65\n",
       "13       1\n",
       "14      12\n",
       "16       5\n",
       "18       1\n",
       "1356     1\n",
       "dtype: int64"
      ]
     },
     "execution_count": 162,
     "metadata": {},
     "output_type": "execute_result"
    }
   ],
   "source": [
    "cscw_len[2013].value_counts(sort=False)"
   ]
  },
  {
   "cell_type": "markdown",
   "metadata": {
    "collapsed": true
   },
   "source": [
    "So I did some spot checking to make sure this wasn't some weird artifact of the metadata... and it turns out that there is some inaccracies with the page numbers. For example:\n",
    "\n",
    "* The metadata for [this article](http://dl.acm.org/citation.cfm?id=2441946) says it is pages 149-1504, which would make it 1,356 pages. If you look at the PDF, then it is a 6 page PDF, which is from pages 1499 to 1504. That explains this big outlier.\n",
    "\n",
    "* The metadata for [this article](http://dl.acm.org/citation.cfm?id=2441793) says it is pages 129-144, which would make it 16 pages (page 129, page 130, page 131 .... to page 144). But if you view the full text PDF, then it is a 15 page PDF, with the page numbers 129 to 143 (and it ends short on page 143). \n",
    "\n",
    "* The metadata for [this next article](http://dl.acm.org/citation.cfm?id=2441794) says it is pages 145-156, which would make it 12 pages (page 145, page 146, page 147 .... to page 156). But if you view the full text PDF, then it is an 11 page PDF, with the page numbers 145 to 155 (and it ends short on page 155). \n",
    "\n",
    "* The metadata for [this article](http://dl.acm.org/citation.cfm?id=2441788) says it is pages 79-90, which would make it 12 pages (page 79, page 80, page 81 .... to page 90). But if you view the full text PDF, then it is an 11 page PDF, with the page numbers 79 to 89 (although it goes all the way to the end of page 89).\n",
    "\n",
    "So these counterexamples are enough to show that the metadata is wrong in multiple cases: we have found the mistaken 1,356 page article; we have found one 15 page article, when the metadata says there are none; and we found two 11 page articles, when the metadata says there is only one.\n",
    "\n",
    "The other articles In order to figure this out in more detail, we would need to get access to all the PDFs and analyze them to see how long those PDFs actually are. However, this would require scraping the PDFs of the ACM Digital Library, which is in violation of their [terms of service.](http://librarians.acm.org/policies#anchor4)"
   ]
  },
  {
   "cell_type": "code",
   "execution_count": null,
   "metadata": {
    "collapsed": true
   },
   "outputs": [],
   "source": []
  },
  {
   "cell_type": "code",
   "execution_count": null,
   "metadata": {
    "collapsed": true
   },
   "outputs": [],
   "source": []
  }
 ],
 "metadata": {
  "kernelspec": {
   "display_name": "Python 3",
   "language": "python",
   "name": "python3"
  },
  "language_info": {
   "codemirror_mode": {
    "name": "ipython",
    "version": 3
   },
   "file_extension": ".py",
   "mimetype": "text/x-python",
   "name": "python",
   "nbconvert_exporter": "python",
   "pygments_lexer": "ipython3",
   "version": "3.6.1"
  },
  "widgets": {
   "state": {},
   "version": "1.1.0"
  }
 },
 "nbformat": 4,
 "nbformat_minor": 1
}
