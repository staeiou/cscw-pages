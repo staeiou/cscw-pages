{
 "cells": [
  {
   "cell_type": "markdown",
   "metadata": {},
   "source": [
    "# What is the distribution of paper lengths in CSCW?\n",
    "by R. Stuart Geiger ([@staeiou](http://twitter.com/staeiou)), Berkeley Institute for Data Science\n",
    "\n",
    "Freely licensed under both [CC-BY 4.0](https://creativecommons.org/licenses/by/4.0/) and [The MIT License](https://opensource.org/licenses/MIT)."
   ]
  },
  {
   "cell_type": "markdown",
   "metadata": {},
   "source": [
    "## Introduction\n",
    "In 2013, the ACM conference on Computer-Supported Cooperative Work (CSCW) removed a strict page limit, which had previously set the length for full papers at 10 pages and notes at 4 pages. Officially, papers can now be any length, from one page to infinity (or whatever the system supports). However, CSCW authors and reviewers [are told that](https://cscw.acm.org/2016/submit/papers.php) \"Papers whose length is incommensurate with their contribution will be rejected.\" So what is the new normal for page lengths? \n",
    "\n",
    "I am exploring this question in this Jupyter notebook, as well as trying to document my data collection, processing, and analysis in as open and reproducible as a manner as I can. I am using a mix of bash commands and python scripts to process and collect the data.\n"
   ]
  },
  {
   "cell_type": "markdown",
   "metadata": {},
   "source": [
    "## Data collection and processing\n",
    "Import libraries we will use: Pandas and Matplotlib."
   ]
  },
  {
   "cell_type": "code",
   "execution_count": 1,
   "metadata": {
    "collapsed": false
   },
   "outputs": [],
   "source": [
    "import pandas as pd\n",
    "import matplotlib\n",
    "%matplotlib inline\n"
   ]
  },
  {
   "cell_type": "markdown",
   "metadata": {},
   "source": [
    "I used my web browser to go to ACM Digital Library's table of contents for [CSCW 2012](http://dl.acm.org/citation.cfm?id=2145204), [2013](http://dl.acm.org/citation.cfm?id=2441776), [2014](http://dl.acm.org/citation.cfm?id=2531602), [2015](http://dl.acm.org/citation.cfm?id=2675133&preflayout=flat) and [2016](http://dl.acm.org/citation.cfm?id=2818048&preflayout=flat), which has page numbers for every paper in plain text. Note that these table of contents do not include the \"companion\" proceedings, which are a separate published proceedings series that contains workshop proposals and extended abstracts for posters. Some years, one to two page abstracts for keynotes are included in the core proceedings, while other years they are included in the companion proceedings.\n",
    "\n",
    "I did a very low-tech, non-automated way of importing the data (which also doesn't violate the ACM Digital Library's strict [terms of service](http://librarians.acm.org/policies#anchor4), which expressly prohibits automated scraping of metadata or articles. I selected the entire table of contents in my browser, then copied and pasted the HTML as plain text into a text editor. These plain text table of contents files are up on my website. "
   ]
  },
  {
   "cell_type": "markdown",
   "metadata": {},
   "source": [
    "To download these text files, use the command line shell interface. I know you can do fancier loops for processing large numbers of files and data frames in sequence, but I am keeping it simple for now."
   ]
  },
  {
   "cell_type": "code",
   "execution_count": 2,
   "metadata": {
    "collapsed": false
   },
   "outputs": [
    {
     "name": "stdout",
     "output_type": "stream",
     "text": [
      "--2016-06-04 20:58:34--  https://raw.githubusercontent.com/staeiou/cscw-pages/master/cscw-12.txt\n",
      "Resolving raw.githubusercontent.com (raw.githubusercontent.com)... 23.235.39.133\n",
      "Connecting to raw.githubusercontent.com (raw.githubusercontent.com)|23.235.39.133|:443... connected.\n",
      "HTTP request sent, awaiting response... 200 OK\n",
      "Length: 80212 (78K) [text/plain]\n",
      "Saving to: ‘cscw-12.txt’\n",
      "\n",
      "cscw-12.txt         100%[=====================>]  78.33K   469KB/s   in 0.2s   \n",
      "\n",
      "2016-06-04 20:58:39 (469 KB/s) - ‘cscw-12.txt’ saved [80212/80212]\n",
      "\n",
      "--2016-06-04 20:58:39--  https://raw.githubusercontent.com/staeiou/cscw-pages/master/cscw-13.txt\n",
      "Resolving raw.githubusercontent.com (raw.githubusercontent.com)... 23.235.39.133\n",
      "Connecting to raw.githubusercontent.com (raw.githubusercontent.com)|23.235.39.133|:443... connected.\n",
      "HTTP request sent, awaiting response... 200 OK\n",
      "Length: 67082 (66K) [text/plain]\n",
      "Saving to: ‘cscw-13.txt’\n",
      "\n",
      "cscw-13.txt         100%[=====================>]  65.51K   147KB/s   in 0.4s   \n",
      "\n",
      "2016-06-04 20:58:43 (147 KB/s) - ‘cscw-13.txt’ saved [67082/67082]\n",
      "\n",
      "--2016-06-04 20:58:43--  https://raw.githubusercontent.com/staeiou/cscw-pages/master/cscw-14.txt\n",
      "Resolving raw.githubusercontent.com (raw.githubusercontent.com)... 23.235.39.133\n",
      "Connecting to raw.githubusercontent.com (raw.githubusercontent.com)|23.235.39.133|:443... connected.\n",
      "HTTP request sent, awaiting response... 200 OK\n",
      "Length: 65517 (64K) [text/plain]\n",
      "Saving to: ‘cscw-14.txt’\n",
      "\n",
      "cscw-14.txt         100%[=====================>]  63.98K   177KB/s   in 0.4s   \n",
      "\n",
      "2016-06-04 20:58:47 (177 KB/s) - ‘cscw-14.txt’ saved [65517/65517]\n",
      "\n",
      "--2016-06-04 20:58:47--  https://raw.githubusercontent.com/staeiou/cscw-pages/master/cscw-15.txt\n",
      "Resolving raw.githubusercontent.com (raw.githubusercontent.com)... 23.235.39.133\n",
      "Connecting to raw.githubusercontent.com (raw.githubusercontent.com)|23.235.39.133|:443... connected.\n",
      "HTTP request sent, awaiting response... 200 OK\n",
      "Length: 79054 (77K) [text/plain]\n",
      "Saving to: ‘cscw-15.txt’\n",
      "\n",
      "cscw-15.txt         100%[=====================>]  77.20K   255KB/s   in 0.3s   \n",
      "\n",
      "2016-06-04 20:58:50 (255 KB/s) - ‘cscw-15.txt’ saved [79054/79054]\n",
      "\n",
      "--2016-06-04 20:58:50--  https://raw.githubusercontent.com/staeiou/cscw-pages/master/cscw-16.txt\n",
      "Resolving raw.githubusercontent.com (raw.githubusercontent.com)... 23.235.39.133\n",
      "Connecting to raw.githubusercontent.com (raw.githubusercontent.com)|23.235.39.133|:443... connected.\n",
      "HTTP request sent, awaiting response... 200 OK\n",
      "Length: 67881 (66K) [text/plain]\n",
      "Saving to: ‘cscw-16.txt’\n",
      "\n",
      "cscw-16.txt         100%[=====================>]  66.29K   310KB/s   in 0.2s   \n",
      "\n",
      "2016-06-04 20:58:53 (310 KB/s) - ‘cscw-16.txt’ saved [67881/67881]\n",
      "\n"
     ]
    }
   ],
   "source": [
    "!wget https://raw.githubusercontent.com/staeiou/cscw-pages/master/cscw-12.txt\n",
    "!wget https://raw.githubusercontent.com/staeiou/cscw-pages/master/cscw-13.txt\n",
    "!wget https://raw.githubusercontent.com/staeiou/cscw-pages/master/cscw-14.txt\n",
    "!wget https://raw.githubusercontent.com/staeiou/cscw-pages/master/cscw-15.txt\n",
    "!wget https://raw.githubusercontent.com/staeiou/cscw-pages/master/cscw-16.txt"
   ]
  },
  {
   "cell_type": "markdown",
   "metadata": {},
   "source": [
    "Peeking at these files using head through the command line, they have the page numbers in lines that begin with \"Pages:\""
   ]
  },
  {
   "cell_type": "code",
   "execution_count": 3,
   "metadata": {
    "collapsed": false
   },
   "outputs": [
    {
     "name": "stdout",
     "output_type": "stream",
     "text": [
      "\r",
      "\r\n",
      "SESSION: Keynote Address\r",
      "\r\n",
      "The Facebook Study: A Personal Account of Data Science, Ethics and Change\r",
      "\r\n",
      "Jeff T. Hancock\r",
      "\r\n",
      "Pages: 1-1\r",
      "\r\n",
      "doi>10.1145/2675133.2697078\r",
      "\r\n",
      "Full text: PDFPDF\r",
      "\r\n",
      "\r",
      "\r\n",
      "Big social data, such as that produced by Facebook and Twitter, have the potential to transform the social sciences and lead to advances in understanding human behavior. At the same time, novel large-scale methods and forms of collaboration between academia ... expand\r",
      "\r\n",
      "SESSION: Crowdfunding\r",
      "\r\n",
      "Understanding the Effects of Crowdfunding on Entrepreneurial Self-Efficacy\r",
      "\r\n",
      "Emily Harburg, Julie Hui, Michael Greenberg, Elizabeth M. Gerber\r",
      "\r\n",
      "Pages: 3-16\r",
      "\r\n",
      "doi>10.1145/2675133.2675142\r",
      "\r\n",
      "Full text: PDFPDF\r",
      "\r\n",
      "\r",
      "\r\n",
      "Crowdfunding is emerging as a new socio-technical system that is changing how entrepreneurs interact with their community of financial supporters. While computer supported cooperative work (CSCW) researchers have begun to explore how this new type of ... expand\r",
      "\r\n",
      "Crowds on Wall Street: Extracting Value from Collaborative Investing Platforms\r",
      "\r\n",
      "Gang Wang, Tianyi Wang, Bolun Wang, Divya Sambasivan, Zengbin Zhang, Haitao Zheng, Ben Y. Zhao\r",
      "\r\n",
      "Pages: 17-30\r",
      "\r\n",
      "doi>10.1145/2675133.2675144\r",
      "\r\n",
      "Full text: PDFPDF\r",
      "\r\n",
      "\r",
      "\r\n",
      "In crowdsourced systems, it is often difficult to separate the highly capable \"experts\" from the average worker. In this paper, we study the problem of evaluating and identifying experts in the context of SeekingAlpha and StockTwits, two crowdsourced ... expand\r",
      "\r\n",
      "Crowdfunding Science: Sharing Research with an Extended Audience\r",
      "\r\n"
     ]
    }
   ],
   "source": [
    "!head -n 25 cscw-15.txt"
   ]
  },
  {
   "cell_type": "markdown",
   "metadata": {},
   "source": [
    "We can use grep via the command line to just get these lines containing \"Pages: \":"
   ]
  },
  {
   "cell_type": "code",
   "execution_count": 4,
   "metadata": {
    "collapsed": false
   },
   "outputs": [
    {
     "name": "stdout",
     "output_type": "stream",
     "text": [
      "Pages: 1-1\r",
      "\r\n",
      "Pages: 3-16\r",
      "\r\n",
      "Pages: 17-30\r",
      "\r\n",
      "Pages: 31-43\r",
      "\r\n",
      "Pages: 44-55\r",
      "\r\n",
      "Pages: 56-68\r",
      "\r\n",
      "Pages: 69-81\r",
      "\r\n",
      "Pages: 82-94\r",
      "\r\n",
      "Pages: 95-104\r",
      "\r\n",
      "Pages: 105-115\r",
      "\r\n"
     ]
    }
   ],
   "source": [
    "!cat cscw-15.txt | grep \"Pages: \" | head"
   ]
  },
  {
   "cell_type": "markdown",
   "metadata": {},
   "source": [
    "I'm going to keep using the command line shell to parse these text files and put them into CSV files, which I will then load into python. So first, create the beginning of two CSV files, with headers for the start and end pages"
   ]
  },
  {
   "cell_type": "code",
   "execution_count": 5,
   "metadata": {
    "collapsed": true
   },
   "outputs": [],
   "source": [
    "!echo \"start_page,end_page\" > cscw-12-pages.csv\n",
    "!echo \"start_page,end_page\" > cscw-13-pages.csv\n",
    "!echo \"start_page,end_page\" > cscw-14-pages.csv\n",
    "!echo \"start_page,end_page\" > cscw-15-pages.csv\n",
    "!echo \"start_page,end_page\" > cscw-16-pages.csv"
   ]
  },
  {
   "cell_type": "markdown",
   "metadata": {},
   "source": [
    "Parse these files for only lines containing \"Pages: \", then remove \"Pages: \" and replace the dash with a comma. Append this to the CSV files."
   ]
  },
  {
   "cell_type": "code",
   "execution_count": 6,
   "metadata": {
    "collapsed": false
   },
   "outputs": [],
   "source": [
    "!cat cscw-12.txt | grep \"Pages: \" | sed -e 's/Pages: //g' | sed -e 's/-/,/g' >> cscw-12-pages.csv\n",
    "!cat cscw-13.txt | grep \"Pages: \" | sed -e 's/Pages: //g' | sed -e 's/-/,/g' >> cscw-13-pages.csv\n",
    "!cat cscw-14.txt | grep \"Pages: \" | sed -e 's/Pages: //g' | sed -e 's/-/,/g' >> cscw-14-pages.csv\n",
    "!cat cscw-15.txt | grep \"Pages: \" | sed -e 's/Pages: //g' | sed -e 's/-/,/g' >> cscw-15-pages.csv\n",
    "!cat cscw-16.txt | grep \"Pages: \" | sed -e 's/Pages: //g' | sed -e 's/-/,/g' >> cscw-16-pages.csv"
   ]
  },
  {
   "cell_type": "markdown",
   "metadata": {},
   "source": [
    "Load these into Pandas dataframes in python."
   ]
  },
  {
   "cell_type": "code",
   "execution_count": 7,
   "metadata": {
    "collapsed": false
   },
   "outputs": [],
   "source": [
    "cscw12 = pd.read_csv(\"cscw-12-pages.csv\")\n",
    "cscw13 = pd.read_csv(\"cscw-13-pages.csv\")\n",
    "cscw14 = pd.read_csv(\"cscw-14-pages.csv\")\n",
    "cscw15 = pd.read_csv(\"cscw-15-pages.csv\")\n",
    "cscw16 = pd.read_csv(\"cscw-16-pages.csv\")"
   ]
  },
  {
   "cell_type": "markdown",
   "metadata": {},
   "source": [
    "## Data analysis and visualization"
   ]
  },
  {
   "cell_type": "markdown",
   "metadata": {},
   "source": [
    "Create new dataframes for each year containing the length of each paper by subtracting the start page from the end page, then adding one."
   ]
  },
  {
   "cell_type": "code",
   "execution_count": 8,
   "metadata": {
    "collapsed": false
   },
   "outputs": [],
   "source": [
    "cscw12_len = cscw12['end_page']-cscw12['start_page']+1\n",
    "cscw13_len = cscw13['end_page']-cscw13['start_page']+1\n",
    "cscw14_len = cscw14['end_page']-cscw14['start_page']+1\n",
    "cscw15_len = cscw15['end_page']-cscw15['start_page']+1\n",
    "cscw16_len = cscw16['end_page']-cscw16['start_page']+1\n"
   ]
  },
  {
   "cell_type": "markdown",
   "metadata": {},
   "source": [
    "We can use the value_counts() function to count up the different page lengths, which we can then plot into bar charts.\n"
   ]
  },
  {
   "cell_type": "markdown",
   "metadata": {
    "collapsed": false
   },
   "source": [
    "### CSCW 2012, last year before 10 page limit was removed"
   ]
  },
  {
   "cell_type": "code",
   "execution_count": 9,
   "metadata": {
    "collapsed": false
   },
   "outputs": [
    {
     "data": {
      "text/plain": [
       "<matplotlib.text.Text at 0x7fdbb653bef0>"
      ]
     },
     "execution_count": 9,
     "metadata": {},
     "output_type": "execute_result"
    },
    {
     "data": {
      "image/png": "[encoded data removed]",
      "text/plain": [
       "<matplotlib.figure.Figure at 0x7fdbb650f390>"
      ]
     },
     "metadata": {},
     "output_type": "display_data"
    }
   ],
   "source": [
    "cscw12_plot = cscw12_len.value_counts(sort=False).plot(kind='bar',title=\"CSCW 2012\")\n",
    "cscw12_plot.set_xlabel(\"Page length\")\n",
    "cscw12_plot.set_ylabel(\"Number of articles\")"
   ]
  },
  {
   "cell_type": "code",
   "execution_count": 10,
   "metadata": {
    "collapsed": false
   },
   "outputs": [
    {
     "data": {
      "text/plain": [
       "count    167.000000\n",
       "mean       8.562874\n",
       "std        2.624135\n",
       "min        2.000000\n",
       "25%       10.000000\n",
       "50%       10.000000\n",
       "75%       10.000000\n",
       "max       10.000000\n",
       "dtype: float64"
      ]
     },
     "execution_count": 10,
     "metadata": {},
     "output_type": "execute_result"
    }
   ],
   "source": [
    "cscw12_len.describe()"
   ]
  },
  {
   "cell_type": "markdown",
   "metadata": {},
   "source": [
    "### CSCW 2013, first year 10 page limit was removed"
   ]
  },
  {
   "cell_type": "code",
   "execution_count": 11,
   "metadata": {
    "collapsed": false
   },
   "outputs": [
    {
     "data": {
      "text/plain": [
       "<matplotlib.text.Text at 0x7fdbb3489a20>"
      ]
     },
     "execution_count": 11,
     "metadata": {},
     "output_type": "execute_result"
    },
    {
     "data": {
      "image/png": "[encoded data removed]",
      "text/plain": [
       "<matplotlib.figure.Figure at 0x7fdbb39362e8>"
      ]
     },
     "metadata": {},
     "output_type": "display_data"
    }
   ],
   "source": [
    "cscw13_plot = cscw13_len.value_counts(sort=False).plot(kind='bar',title=\"CSCW 2013\")\n",
    "cscw13_plot.set_xlabel(\"Page length\")\n",
    "cscw13_plot.set_ylabel(\"Number of articles\")\n"
   ]
  },
  {
   "cell_type": "code",
   "execution_count": 12,
   "metadata": {
    "collapsed": false
   },
   "outputs": [
    {
     "data": {
      "text/plain": [
       "count     141.000000\n",
       "mean       20.666667\n",
       "std       113.284702\n",
       "min         2.000000\n",
       "25%        10.000000\n",
       "50%        12.000000\n",
       "75%        12.000000\n",
       "max      1356.000000\n",
       "dtype: float64"
      ]
     },
     "execution_count": 12,
     "metadata": {},
     "output_type": "execute_result"
    }
   ],
   "source": [
    "cscw13_len.describe()"
   ]
  },
  {
   "cell_type": "markdown",
   "metadata": {},
   "source": [
    "There are some funny things going on with this data, which I'll get to later."
   ]
  },
  {
   "cell_type": "markdown",
   "metadata": {},
   "source": [
    "### CSCW 2014"
   ]
  },
  {
   "cell_type": "code",
   "execution_count": 13,
   "metadata": {
    "collapsed": false
   },
   "outputs": [
    {
     "data": {
      "text/plain": [
       "<matplotlib.text.Text at 0x7fdbb33a5128>"
      ]
     },
     "execution_count": 13,
     "metadata": {},
     "output_type": "execute_result"
    },
    {
     "data": {
      "image/png": "[encoded data removed]",
      "text/plain": [
       "<matplotlib.figure.Figure at 0x7fdbb3412908>"
      ]
     },
     "metadata": {},
     "output_type": "display_data"
    }
   ],
   "source": [
    "cscw14_plot = cscw14_len.value_counts(sort=False).plot(kind='bar',title=\"CSCW 2014\")\n",
    "cscw14_plot.set_xlabel(\"Page length\")\n",
    "cscw14_plot.set_ylabel(\"Number of articles\")"
   ]
  },
  {
   "cell_type": "code",
   "execution_count": 14,
   "metadata": {
    "collapsed": false
   },
   "outputs": [
    {
     "data": {
      "text/plain": [
       "count    163.000000\n",
       "mean      11.693252\n",
       "std        2.334210\n",
       "min        1.000000\n",
       "25%       11.000000\n",
       "50%       12.000000\n",
       "75%       13.000000\n",
       "max       17.000000\n",
       "dtype: float64"
      ]
     },
     "execution_count": 14,
     "metadata": {},
     "output_type": "execute_result"
    }
   ],
   "source": [
    "cscw15_len.describe()"
   ]
  },
  {
   "cell_type": "markdown",
   "metadata": {},
   "source": [
    "### CSCW 2015"
   ]
  },
  {
   "cell_type": "code",
   "execution_count": 15,
   "metadata": {
    "collapsed": false
   },
   "outputs": [
    {
     "data": {
      "text/plain": [
       "<matplotlib.text.Text at 0x7fdbb3405128>"
      ]
     },
     "execution_count": 15,
     "metadata": {},
     "output_type": "execute_result"
    },
    {
     "data": {
      "image/png": "[encoded data removed]",
      "text/plain": [
       "<matplotlib.figure.Figure at 0x7fdbb337e5c0>"
      ]
     },
     "metadata": {},
     "output_type": "display_data"
    }
   ],
   "source": [
    "cscw15_plot=cscw15_len.value_counts(sort=False).plot(kind='bar',title=\"CSCW 2015\")\n",
    "cscw15_plot.set_xlabel(\"Page length\")\n",
    "cscw15_plot.set_ylabel(\"Number of articles\")"
   ]
  },
  {
   "cell_type": "code",
   "execution_count": 16,
   "metadata": {
    "collapsed": false
   },
   "outputs": [
    {
     "data": {
      "text/plain": [
       "count    163.000000\n",
       "mean      11.693252\n",
       "std        2.334210\n",
       "min        1.000000\n",
       "25%       11.000000\n",
       "50%       12.000000\n",
       "75%       13.000000\n",
       "max       17.000000\n",
       "dtype: float64"
      ]
     },
     "execution_count": 16,
     "metadata": {},
     "output_type": "execute_result"
    }
   ],
   "source": [
    "cscw15_len.describe()"
   ]
  },
  {
   "cell_type": "markdown",
   "metadata": {},
   "source": [
    "### CSCW 2016"
   ]
  },
  {
   "cell_type": "code",
   "execution_count": 17,
   "metadata": {
    "collapsed": false
   },
   "outputs": [
    {
     "data": {
      "text/plain": [
       "<matplotlib.text.Text at 0x7fdbb324cd30>"
      ]
     },
     "execution_count": 17,
     "metadata": {},
     "output_type": "execute_result"
    },
    {
     "data": {
      "image/png": "[encoded data removed]",
      "text/plain": [
       "<matplotlib.figure.Figure at 0x7fdbb3306898>"
      ]
     },
     "metadata": {},
     "output_type": "display_data"
    }
   ],
   "source": [
    "cscw16_plot=cscw16_len.value_counts(sort=False).plot(kind='bar',title=\"CSCW 2016\")\n",
    "cscw16_plot.set_xlabel(\"Page length\")\n",
    "cscw16_plot.set_ylabel(\"Number of articles\")"
   ]
  },
  {
   "cell_type": "code",
   "execution_count": 18,
   "metadata": {
    "collapsed": false
   },
   "outputs": [
    {
     "data": {
      "text/plain": [
       "count    142.000000\n",
       "mean      12.598592\n",
       "std        1.794633\n",
       "min        6.000000\n",
       "25%       12.000000\n",
       "50%       13.000000\n",
       "75%       14.000000\n",
       "max       17.000000\n",
       "dtype: float64"
      ]
     },
     "execution_count": 18,
     "metadata": {},
     "output_type": "execute_result"
    }
   ],
   "source": [
    "cscw16_len.describe()"
   ]
  },
  {
   "cell_type": "markdown",
   "metadata": {},
   "source": [
    "## Discussion\n",
    "If we look at the most recent proceedings for CSCW 2016, we can see that the old page length of 10 pages is well below the mean -- at least one standard deviation below. How many standard deviations below the mean is this old length? We can use the formula for calculating a z score (see [the Wikipedia article](https://en.wikipedia.org/w/index.php?title=Standard_score) for more info): \n",
    "$$z = {x- \\mu \\over \\sigma}$$\n",
    "where $x$ is the score (10 pages), $\\mu$ is the mean and $\\sigma$ is the standard deviation."
   ]
  },
  {
   "cell_type": "code",
   "execution_count": 19,
   "metadata": {
    "collapsed": false
   },
   "outputs": [
    {
     "data": {
      "text/plain": [
       "-1.4479794496465004"
      ]
     },
     "execution_count": 19,
     "metadata": {},
     "output_type": "execute_result"
    }
   ],
   "source": [
    "(10 - cscw16_len.mean())/cscw16_len.std()"
   ]
  },
  {
   "cell_type": "markdown",
   "metadata": {
    "collapsed": true
   },
   "source": [
    "### What is going on with odd page lengths for CSCW 2013?\n",
    "The page lengths all fit some sort of smooth distribution, except CSCW 2013. It appears there were only a handful of articles that were 11 or 13 pages, with the overwhelming majority being 10 and 12 pages. And if you look even closer at the graph, you see there are no articles that are 7, 9, or 15 pages long. We also have a mysterious 1,356 page article. We can get the distribution of all lengths with value_counts():"
   ]
  },
  {
   "cell_type": "code",
   "execution_count": 20,
   "metadata": {
    "collapsed": false
   },
   "outputs": [
    {
     "data": {
      "text/plain": [
       "2        2\n",
       "6       10\n",
       "8        3\n",
       "10      40\n",
       "11       1\n",
       "12      65\n",
       "13       1\n",
       "14      12\n",
       "16       5\n",
       "18       1\n",
       "1356     1\n",
       "dtype: int64"
      ]
     },
     "execution_count": 20,
     "metadata": {},
     "output_type": "execute_result"
    }
   ],
   "source": [
    "cscw13_len.value_counts(sort=False)"
   ]
  },
  {
   "cell_type": "markdown",
   "metadata": {
    "collapsed": true
   },
   "source": [
    "So I did some spot checking to make sure this wasn't some weird artifact of the metadata... and it turns out that there is some inaccracies with the page numbers. For example:\n",
    "\n",
    "* The metadata for [this article](http://dl.acm.org/citation.cfm?id=2441946) says it is pages 149-1504, which would make it 1,356 pages. If you look at the PDF, then it is a 6 page PDF, which is from pages 1499 to 1504. That explains this big outlier.\n",
    "\n",
    "* The metadata for [this article](http://dl.acm.org/citation.cfm?id=2441793) says it is pages 129-144, which would make it 16 pages (page 129, page 130, page 131 .... to page 144). But if you view the full text PDF, then it is a 15 page PDF, with the page numbers 129 to 143 (and it ends short on page 143). \n",
    "\n",
    "* The metadata for [this next article](http://dl.acm.org/citation.cfm?id=2441794) says it is pages 145-156, which would make it 12 pages (page 145, page 146, page 147 .... to page 156). But if you view the full text PDF, then it is an 11 page PDF, with the page numbers 145 to 155 (and it ends short on page 155). \n",
    "\n",
    "* The metadata for [this article](http://dl.acm.org/citation.cfm?id=2441788) says it is pages 79-90, which would make it 12 pages (page 79, page 80, page 81 .... to page 90). But if you view the full text PDF, then it is an 11 page PDF, with the page numbers 79 to 89 (although it goes all the way to the end of page 89).\n",
    "\n",
    "So these counterexamples are enough to show that the metadata is wrong in multiple cases: we have found the mistaken 1,356 page article; we have found one 15 page article, when the metadata says there are none; and we found two 11 page articles, when the metadata says there is only one.\n",
    "\n",
    "The other articles In order to figure this out in more detail, we would need to get access to all the PDFs and analyze them to see how long those PDFs actually are. However, this would require scraping the PDFs of the ACM Digital Library, which is in violation of their [terms of service.](http://librarians.acm.org/policies#anchor4)"
   ]
  },
  {
   "cell_type": "code",
   "execution_count": null,
   "metadata": {
    "collapsed": true
   },
   "outputs": [],
   "source": []
  },
  {
   "cell_type": "code",
   "execution_count": null,
   "metadata": {
    "collapsed": true
   },
   "outputs": [],
   "source": []
  },
  {
   "cell_type": "code",
   "execution_count": null,
   "metadata": {
    "collapsed": true
   },
   "outputs": [],
   "source": []
  }
 ],
 "metadata": {
  "kernelspec": {
   "display_name": "Python 3",
   "language": "python",
   "name": "python3"
  },
  "language_info": {
   "codemirror_mode": {
    "name": "ipython",
    "version": 3
   },
   "file_extension": ".py",
   "mimetype": "text/x-python",
   "name": "python",
   "nbconvert_exporter": "python",
   "pygments_lexer": "ipython3",
   "version": "3.5.1"
  },
  "widgets": {
   "state": {},
   "version": "1.1.0"
  }
 },
 "nbformat": 4,
 "nbformat_minor": 0
}
